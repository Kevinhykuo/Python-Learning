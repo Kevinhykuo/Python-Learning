{
 "cells": [
  {
   "cell_type": "markdown",
   "metadata": {},
   "source": [
    "# Assignment 5"
   ]
  },
  {
   "cell_type": "code",
   "execution_count": 1,
   "metadata": {},
   "outputs": [],
   "source": [
    "import numpy as np\n",
    "import matplotlib as mp\n",
    "import matplotlib.pyplot as plt\n",
    "\n",
    "from numpy import exp\n",
    "from textwrap import wrap\n",
    "\n",
    "%load_ext Cython"
   ]
  },
  {
   "cell_type": "markdown",
   "metadata": {},
   "source": [
    "## 6) COMPUTATION: Finite Difference Time Domain method (extended)"
   ]
  },
  {
   "cell_type": "code",
   "execution_count": 2,
   "metadata": {},
   "outputs": [],
   "source": [
    "# Normal Python\n",
    "# =============\n",
    "# @np.vectorize\n",
    "def FDTD(X):\n",
    "    t_max = 500\n",
    "    imp0 = 377\n",
    "    x_len = len(x_space)\n",
    "    H_y = np.zeros((t_max, x_len))\n",
    "    E_z = np.zeros((t_max, x_len))\n",
    "    temp1 = np.zeros(x_len)\n",
    "    temp2 = np.zeros(x_len)\n",
    "    R = temp1 + 1\n",
    "    # muR = np.zeros(len(x_space)) + 1\n",
    "\n",
    "    R[400-140] = R[400+140] = 5\n",
    "    R[:400-200] = R[400+200:] = 10**10\n",
    "    # muR[70] = 5\n",
    "\n",
    "    for i in range(0, t_max, 1):\n",
    "        temp1[x_len-1] = temp1[x_len-2]\n",
    "        for j in range(0, x_len-1, 1):\n",
    "            temp1[j] += (temp2[j+1] - temp2[j]) / imp0 / R[j]\n",
    "\n",
    "        temp2[0] = temp2[1]\n",
    "        for j in range(1, x_len, 1):    \n",
    "            temp2[j] += (temp1[j] - temp1[j-1]) * imp0 / R[j]\n",
    "\n",
    "        temp2[400] += exp(-(i-30)*(i-30)/100)\n",
    "\n",
    "        E_z[i,:] = temp2[:]\n",
    "        H_y[i,:] = temp1[:]\n",
    "    return E_z, H_y"
   ]
  },
  {
   "cell_type": "code",
   "execution_count": 3,
   "metadata": {},
   "outputs": [],
   "source": [
    "%%cython -a -c=-ffast-math\n",
    "\n",
    "import numpy as np\n",
    "cimport numpy as np\n",
    "cimport cython as c\n",
    "from libc.math cimport exp\n",
    "from cython cimport floating\n",
    "\n",
    "# cdef np.ndarray cx_space = np.arange(-400, 401, 1, dtype=float)\n",
    "\n",
    "def cFDTD(double[:] X):\n",
    "    cdef cx_space = X\n",
    "    cdef int ct_max = 500\n",
    "    cdef int cimp0 = 377\n",
    "    cdef int cx_len = len(cx_space)\n",
    "    cdef double[:,:] cH_y = np.zeros((ct_max, cx_len), dtype=np.double)\n",
    "    cdef double[:,:] cE_z = np.zeros((ct_max, cx_len), dtype=np.double)\n",
    "    cdef double[:] ctemp1 = np.zeros(cx_len, dtype=np.double)\n",
    "    cdef double[:] ctemp2 = np.zeros(cx_len, dtype=np.double)\n",
    "    \n",
    "    # Can not use cR = ctemp1 + 1\n",
    "    # Must loop for each index\n",
    "    # As memoryview does not support universal functions\n",
    "    cdef int n\n",
    "    with c.wraparound(False), c.boundscheck(False):\n",
    "        cR = ctemp1\n",
    "        for n in range(cx_len):\n",
    "            cR[n] += 1\n",
    "            \n",
    "        cR[400-140] = cR[400+140] = 5\n",
    "        cR[:400-200] = cR[400+200:] = 10**10\n",
    "\n",
    "    cdef int i, j \n",
    "    with c.wraparound(False), c.boundscheck(False):\n",
    "        for i in range(0, ct_max, 1):\n",
    "            ctemp1[cx_len-1] = ctemp1[cx_len-2]\n",
    "            for j in range(0, cx_len-1, 1):\n",
    "                ctemp1[j] += (ctemp2[j+1] - ctemp2[j]) / cimp0 / cR[j]\n",
    "\n",
    "            ctemp2[0] = ctemp2[1]\n",
    "            for j in range(1, cx_len, 1):    \n",
    "                ctemp2[j] += (ctemp1[j] - ctemp1[j-1]) * cimp0 / cR[j]\n",
    "\n",
    "            ctemp2[400] += exp(-(i-30)*(i-30)/100)\n",
    "\n",
    "            cE_z[i,:] = ctemp2[:]\n",
    "            cH_y[i,:] = ctemp1[:]\n",
    "            \n",
    "    return cE_z, cH_y"
   ]
  },
  {
   "cell_type": "code",
   "execution_count": 4,
   "metadata": {},
   "outputs": [],
   "source": [
    "x_space = np.arange(-400, 401, 1, dtype=np.double)"
   ]
  },
  {
   "cell_type": "code",
   "execution_count": null,
   "metadata": {},
   "outputs": [],
   "source": [
    "%timeit E_z, H_y = FDTD(x_space)"
   ]
  },
  {
   "cell_type": "code",
   "execution_count": null,
   "metadata": {},
   "outputs": [],
   "source": [
    "%timeit cE_z, c_H_y = cFDTD(x_space)"
   ]
  },
  {
   "cell_type": "code",
   "execution_count": null,
   "metadata": {},
   "outputs": [],
   "source": [
    "# E_z, H_y = FDTD(x_space)\n",
    "# plt.figure(figsize = (10, 20))\n",
    "# for i in range(0, 500, 10):\n",
    "#     plt.plot(x_space/20, E_z[i, :] + i/10, color=\"b\", zorder=10, linewidth=1)\n",
    "#     plt.plot(x_space/20, H_y[i, :]*100 + i/10, color=\"orange\", zorder=9, linewidth=1)\n",
    "\n",
    "# plt.fill([-15,-10,-10,-15], [-1,-1,60,60], 'black', alpha=0.2)\n",
    "# plt.fill([15,10,10,15], [-1,-1,60,60], 'black', alpha=0.2)\n",
    "# plt.fill([-15,-7,-7,-15], [-1,-1,60,60], 'black', alpha=0.2)\n",
    "# plt.fill([15,7,7,15], [-1,-1,60,60], 'black', alpha=0.2)\n",
    "\n",
    "# plt.xlim([-15, 15])\n",
    "# plt.ylim(-1, 52)\n",
    "# plt.legend((r'$|\\vec{E}|$ (normalized)', r'$|\\vec{B}|$ (relative to $|\\vec{E}| \\times 100$)'))\n",
    "# plt.xlabel(r'Space [$\\sigma$]')\n",
    "# plt.ylabel('Time [frame number]')\n",
    "\n",
    "# caption = r\"The light grey regions are dielectrics with $\\epsilon_r = 5$, whereas the dark grey regions are the reflective boundaries.\"\n",
    "# plt.text(16, -0.15, \"\\n\".join(wrap(caption, 50)), ha='left', fontsize=12, wrap=False)\n",
    "\n",
    "# plt.show()"
   ]
  }
 ],
 "metadata": {
  "kernelspec": {
   "display_name": "Python 3",
   "language": "python",
   "name": "python3"
  },
  "language_info": {
   "codemirror_mode": {
    "name": "ipython",
    "version": 3
   },
   "file_extension": ".py",
   "mimetype": "text/x-python",
   "name": "python",
   "nbconvert_exporter": "python",
   "pygments_lexer": "ipython3",
   "version": "3.7.7"
  }
 },
 "nbformat": 4,
 "nbformat_minor": 4
}

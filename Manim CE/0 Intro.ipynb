{
 "cells": [
  {
   "cell_type": "markdown",
   "metadata": {},
   "source": [
    "# Intro\n",
    "\n",
    "This mainly follows the tutorials outlined by the [Theorem of Beethoven](https://www.youtube.com/watch?v=ENMyFGmq5OA&list=PL2B6OzTsMUrwo4hA3BBfS7ZR34K361Z8F)\n"
   ]
  },
  {
   "cell_type": "markdown",
   "metadata": {},
   "source": [
    "`from manimlib.imports import *` Inport needed libraries"
   ]
  },
  {
   "cell_type": "markdown",
   "metadata": {},
   "source": [
    "Each animation is a class of the scene:\n",
    "\n",
    "`class NameOfScene(Scene): \n",
    "    def construct(self): ` "
   ]
  },
  {
   "cell_type": "markdown",
   "metadata": {},
   "source": [
    "## Outputting a video\n",
    "\n",
    "To output a video, we open type the following into the terminal: \n",
    "\n",
    "`python -m manim example_scenes.py OpeningManimExample -p -q l`\n",
    "\n",
    "(In some OSs, we must specify the version of Python, such as `python3`)\n",
    "\n",
    "`-p -q l` means preview in low quality\n",
    "* `p` means preview \n",
    "* `q` for quality and `l` for low (480p)"
   ]
  },
  {
   "cell_type": "code",
   "execution_count": null,
   "metadata": {},
   "outputs": [],
   "source": []
  }
 ],
 "metadata": {
  "kernelspec": {
   "display_name": "Python 3",
   "language": "python",
   "name": "python3"
  },
  "language_info": {
   "codemirror_mode": {
    "name": "ipython",
    "version": 3
   },
   "file_extension": ".py",
   "mimetype": "text/x-python",
   "name": "python",
   "nbconvert_exporter": "python",
   "pygments_lexer": "ipython3",
   "version": "3.7.9"
  }
 },
 "nbformat": 4,
 "nbformat_minor": 4
}

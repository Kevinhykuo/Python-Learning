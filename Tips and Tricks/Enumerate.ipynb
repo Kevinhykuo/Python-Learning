{
 "cells": [
  {
   "cell_type": "markdown",
   "metadata": {},
   "source": [
    "# Enumerate\n",
    "\n",
    "Don't do this \n",
    "\n",
    "`names = ['A', 'B', 'C', 'D', 'E']`\n",
    "\n",
    "`ind = 0\n",
    "for name in names: \n",
    "    print(ind, name)\n",
    "    ind += 1`\n",
    "\n",
    "Do this:"
   ]
  },
  {
   "cell_type": "code",
   "execution_count": 14,
   "metadata": {},
   "outputs": [
    {
     "name": "stdout",
     "output_type": "stream",
     "text": [
      "0 A\n",
      "1 B\n",
      "2 C\n",
      "3 D\n",
      "4 E\n"
     ]
    }
   ],
   "source": [
    "names = ['A', 'B', 'C', 'D', 'E']\n",
    "\n",
    "for a, b in enumerate(names, start=0):\n",
    "    print(a, b)"
   ]
  }
 ],
 "metadata": {
  "kernelspec": {
   "display_name": "Python 3",
   "language": "python",
   "name": "python3"
  },
  "language_info": {
   "codemirror_mode": {
    "name": "ipython",
    "version": 3
   },
   "file_extension": ".py",
   "mimetype": "text/x-python",
   "name": "python",
   "nbconvert_exporter": "python",
   "pygments_lexer": "ipython3",
   "version": "3.7.9"
  }
 },
 "nbformat": 4,
 "nbformat_minor": 4
}

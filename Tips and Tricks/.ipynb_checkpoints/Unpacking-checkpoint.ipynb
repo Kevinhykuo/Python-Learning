{
 "cells": [
  {
   "cell_type": "markdown",
   "metadata": {},
   "source": [
    "# Unpacking"
   ]
  },
  {
   "cell_type": "code",
   "execution_count": 32,
   "metadata": {},
   "outputs": [
    {
     "name": "stdout",
     "output_type": "stream",
     "text": [
      "1\n",
      "1 2 [3, 4, 5, 6, 7]\n",
      "1 2\n",
      "1 2 [3, 4, 5] 6 7\n"
     ]
    }
   ],
   "source": [
    "# We can use _ to tell Python to ignore a variable\n",
    "# In this case, 2 is ignored\n",
    "a, _ = (1, 2)\n",
    "print(a)\n",
    "\n",
    "# If there is too many to unpack\n",
    "# We can use * to signify the rest\n",
    "A, B, *C = (1, 2, 3, 4, 5, 6, 7)\n",
    "print(A, B, C)\n",
    "\n",
    "\n",
    "# Or to ignore the rest\n",
    "# We can place a _\n",
    "A2, B2, *_ = (1, 2, 3, 4, 5, 6, 7)\n",
    "print(A2, B2)\n",
    "\n",
    "# Or if we want * to specify everything\n",
    "# but the last few value\n",
    "A3, B3, *C3, D3, E3 = (1, 2, 3, 4, 5, 6, 7)\n",
    "print(A3, B3, C3, D3, E3)"
   ]
  }
 ],
 "metadata": {
  "kernelspec": {
   "display_name": "Python 3",
   "language": "python",
   "name": "python3"
  },
  "language_info": {
   "codemirror_mode": {
    "name": "ipython",
    "version": 3
   },
   "file_extension": ".py",
   "mimetype": "text/x-python",
   "name": "python",
   "nbconvert_exporter": "python",
   "pygments_lexer": "ipython3",
   "version": "3.7.9"
  }
 },
 "nbformat": 4,
 "nbformat_minor": 4
}

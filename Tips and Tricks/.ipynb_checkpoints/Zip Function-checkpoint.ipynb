{
 "cells": [
  {
   "cell_type": "markdown",
   "metadata": {},
   "source": [
    "# Zip functions\n",
    "\n",
    "Zip functions allow us to loop over multiple lists, so instead of doing this: \n",
    "\n",
    "`Upper = ['A', 'B', 'C', 'D', 'E']\n",
    "Lower = ['a', 'b', 'c', 'd', 'e']`\n",
    "\n",
    "`for index, Alpha in enumerate(Upper):\n",
    "    lower = Lower[index]\n",
    "    print(f'{Alpha} is {lower}')`"
   ]
  },
  {
   "cell_type": "code",
   "execution_count": 22,
   "metadata": {},
   "outputs": [
    {
     "name": "stdout",
     "output_type": "stream",
     "text": [
      "A is a with 1\n",
      "B is b with 2\n",
      "C is c with 3\n",
      "D is d with 4\n",
      "E is e with 5\n",
      "('A', 'a', '1')\n",
      "('B', 'b', '2')\n",
      "('C', 'c', '3')\n",
      "('D', 'd', '4')\n",
      "('E', 'e', '5')\n"
     ]
    }
   ],
   "source": [
    "Upper = ['A', 'B', 'C', 'D', 'E']\n",
    "Lower = ['a', 'b', 'c', 'd', 'e']\n",
    "Num = ['1', '2', '3', '4', '5']\n",
    "\n",
    "for upper, lower, num in zip(Upper, Lower, Num):\n",
    "    print(f'{upper} is {lower} with {num}')\n",
    "\n",
    "# We can also print the individual strings\n",
    "for value in zip(Upper, Lower, Num):\n",
    "    print(value)"
   ]
  }
 ],
 "metadata": {
  "kernelspec": {
   "display_name": "Python 3",
   "language": "python",
   "name": "python3"
  },
  "language_info": {
   "codemirror_mode": {
    "name": "ipython",
    "version": 3
   },
   "file_extension": ".py",
   "mimetype": "text/x-python",
   "name": "python",
   "nbconvert_exporter": "python",
   "pygments_lexer": "ipython3",
   "version": "3.7.9"
  }
 },
 "nbformat": 4,
 "nbformat_minor": 4
}

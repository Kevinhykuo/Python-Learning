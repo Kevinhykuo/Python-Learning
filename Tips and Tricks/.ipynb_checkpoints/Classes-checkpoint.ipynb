{
 "cells": [
  {
   "cell_type": "markdown",
   "metadata": {},
   "source": [
    "# Classes"
   ]
  },
  {
   "cell_type": "code",
   "execution_count": 33,
   "metadata": {},
   "outputs": [
    {
     "name": "stdout",
     "output_type": "stream",
     "text": [
      "Aaron\n",
      "Zzyggy\n"
     ]
    }
   ],
   "source": [
    "class Person():\n",
    "    pass \n",
    "\n",
    "person = Person()\n",
    "\n",
    "person.first = \"Aaron\"\n",
    "person.last = \"Zzyggy\"\n",
    "\n",
    "print(person.first)\n",
    "print(person.last)"
   ]
  },
  {
   "cell_type": "markdown",
   "metadata": {},
   "source": [
    "We can use \n",
    "`setattr()` and `getattr()` to make this better"
   ]
  },
  {
   "cell_type": "code",
   "execution_count": 34,
   "metadata": {},
   "outputs": [
    {
     "name": "stdout",
     "output_type": "stream",
     "text": [
      "Abby\n"
     ]
    }
   ],
   "source": [
    "first_key = 'first'\n",
    "first_val = 'Abby'\n",
    "\n",
    "# Set attribute\n",
    "setattr(person, first_key, first_val)\n",
    "\n",
    "first = getattr(person, first_key)\n",
    "\n",
    "print(first)"
   ]
  },
  {
   "cell_type": "markdown",
   "metadata": {},
   "source": [
    "Now, if we want to loop over a dictionary"
   ]
  },
  {
   "cell_type": "code",
   "execution_count": 49,
   "metadata": {},
   "outputs": [
    {
     "name": "stdout",
     "output_type": "stream",
     "text": [
      "Aaron Candice \n",
      "\n",
      "Aaron\n",
      "Betty\n",
      "Candice\n"
     ]
    }
   ],
   "source": [
    "Person_info = {'fst': 'Aaron', 'mid':'Betty', 'lst': 'Candice'}\n",
    "\n",
    "for key, value in Person_info.items():\n",
    "# .items() allows access to keys and values in dictionary\n",
    "    setattr(Person, key, value)\n",
    "    \n",
    "print(Person.fst, Person.lst, '\\n')\n",
    "\n",
    "# If we want just the keys\n",
    "for key in Person_info.keys():\n",
    "    print(getattr(Person, key))"
   ]
  }
 ],
 "metadata": {
  "kernelspec": {
   "display_name": "Python 3",
   "language": "python",
   "name": "python3"
  },
  "language_info": {
   "codemirror_mode": {
    "name": "ipython",
    "version": 3
   },
   "file_extension": ".py",
   "mimetype": "text/x-python",
   "name": "python",
   "nbconvert_exporter": "python",
   "pygments_lexer": "ipython3",
   "version": "3.7.9"
  }
 },
 "nbformat": 4,
 "nbformat_minor": 4
}

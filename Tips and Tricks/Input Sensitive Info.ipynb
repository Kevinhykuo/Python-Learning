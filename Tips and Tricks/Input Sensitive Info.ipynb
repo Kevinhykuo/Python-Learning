{
 "cells": [
  {
   "cell_type": "markdown",
   "metadata": {},
   "source": [
    "# Inputting Sensitive Info\n",
    "\n",
    "If we want to input sensitive info, use `getpass()` function"
   ]
  },
  {
   "cell_type": "code",
   "execution_count": 50,
   "metadata": {},
   "outputs": [
    {
     "name": "stdin",
     "output_type": "stream",
     "text": [
      "Username:  Hi\n",
      "Password:  No\n"
     ]
    },
    {
     "name": "stdout",
     "output_type": "stream",
     "text": [
      "Logging in...\n"
     ]
    }
   ],
   "source": [
    "# Here's how not to do it\n",
    "# This does not hide the password \n",
    "user = input('Username: ')\n",
    "pwrd = input('Password: ')\n",
    "\n",
    "print('Logging in...')"
   ]
  },
  {
   "cell_type": "code",
   "execution_count": 51,
   "metadata": {},
   "outputs": [
    {
     "name": "stdin",
     "output_type": "stream",
     "text": [
      "User:  Hi\n",
      "Password:  ····\n"
     ]
    },
    {
     "name": "stdout",
     "output_type": "stream",
     "text": [
      "Logging in....\n"
     ]
    }
   ],
   "source": [
    "# Now this hides the password\n",
    "from getpass import getpass \n",
    "\n",
    "un = input('User: ')\n",
    "pw = getpass('Password: ')\n",
    "\n",
    "print('Logging in....')"
   ]
  }
 ],
 "metadata": {
  "kernelspec": {
   "display_name": "Python 3",
   "language": "python",
   "name": "python3"
  },
  "language_info": {
   "codemirror_mode": {
    "name": "ipython",
    "version": 3
   },
   "file_extension": ".py",
   "mimetype": "text/x-python",
   "name": "python",
   "nbconvert_exporter": "python",
   "pygments_lexer": "ipython3",
   "version": "3.7.9"
  }
 },
 "nbformat": 4,
 "nbformat_minor": 4
}
